{
 "cells": [
  {
   "cell_type": "code",
   "execution_count": 1,
   "id": "ecbf62fb",
   "metadata": {
    "execution": {
     "iopub.execute_input": "2024-08-27T12:42:39.907409Z",
     "iopub.status.busy": "2024-08-27T12:42:39.906960Z",
     "iopub.status.idle": "2024-08-27T12:42:41.892530Z",
     "shell.execute_reply": "2024-08-27T12:42:41.891497Z"
    },
    "papermill": {
     "duration": 1.995455,
     "end_time": "2024-08-27T12:42:41.895008",
     "exception": false,
     "start_time": "2024-08-27T12:42:39.899553",
     "status": "completed"
    },
    "tags": []
   },
   "outputs": [],
   "source": [
    "import pandas as pd\n",
    "import matplotlib.pyplot as plt \n",
    "import numpy as np\n",
    "import seaborn as sns\n",
    "\n",
    "df = pd.read_csv(\"/kaggle/input/test-file/tested.csv\")"
   ]
  },
  {
   "cell_type": "code",
   "execution_count": 2,
   "id": "538e1826",
   "metadata": {
    "execution": {
     "iopub.execute_input": "2024-08-27T12:42:41.907368Z",
     "iopub.status.busy": "2024-08-27T12:42:41.906580Z",
     "iopub.status.idle": "2024-08-27T12:42:41.935316Z",
     "shell.execute_reply": "2024-08-27T12:42:41.934244Z"
    },
    "papermill": {
     "duration": 0.037232,
     "end_time": "2024-08-27T12:42:41.937517",
     "exception": false,
     "start_time": "2024-08-27T12:42:41.900285",
     "status": "completed"
    },
    "tags": []
   },
   "outputs": [
    {
     "data": {
      "text/html": [
       "<div>\n",
       "<style scoped>\n",
       "    .dataframe tbody tr th:only-of-type {\n",
       "        vertical-align: middle;\n",
       "    }\n",
       "\n",
       "    .dataframe tbody tr th {\n",
       "        vertical-align: top;\n",
       "    }\n",
       "\n",
       "    .dataframe thead th {\n",
       "        text-align: right;\n",
       "    }\n",
       "</style>\n",
       "<table border=\"1\" class=\"dataframe\">\n",
       "  <thead>\n",
       "    <tr style=\"text-align: right;\">\n",
       "      <th></th>\n",
       "      <th>PassengerId</th>\n",
       "      <th>Survived</th>\n",
       "      <th>Pclass</th>\n",
       "      <th>Name</th>\n",
       "      <th>Sex</th>\n",
       "      <th>Age</th>\n",
       "      <th>SibSp</th>\n",
       "      <th>Parch</th>\n",
       "      <th>Ticket</th>\n",
       "      <th>Fare</th>\n",
       "      <th>Cabin</th>\n",
       "      <th>Embarked</th>\n",
       "    </tr>\n",
       "  </thead>\n",
       "  <tbody>\n",
       "    <tr>\n",
       "      <th>0</th>\n",
       "      <td>892</td>\n",
       "      <td>0</td>\n",
       "      <td>3</td>\n",
       "      <td>Kelly, Mr. James</td>\n",
       "      <td>male</td>\n",
       "      <td>34.5</td>\n",
       "      <td>0</td>\n",
       "      <td>0</td>\n",
       "      <td>330911</td>\n",
       "      <td>7.8292</td>\n",
       "      <td>NaN</td>\n",
       "      <td>Q</td>\n",
       "    </tr>\n",
       "    <tr>\n",
       "      <th>1</th>\n",
       "      <td>893</td>\n",
       "      <td>1</td>\n",
       "      <td>3</td>\n",
       "      <td>Wilkes, Mrs. James (Ellen Needs)</td>\n",
       "      <td>female</td>\n",
       "      <td>47.0</td>\n",
       "      <td>1</td>\n",
       "      <td>0</td>\n",
       "      <td>363272</td>\n",
       "      <td>7.0000</td>\n",
       "      <td>NaN</td>\n",
       "      <td>S</td>\n",
       "    </tr>\n",
       "    <tr>\n",
       "      <th>2</th>\n",
       "      <td>894</td>\n",
       "      <td>0</td>\n",
       "      <td>2</td>\n",
       "      <td>Myles, Mr. Thomas Francis</td>\n",
       "      <td>male</td>\n",
       "      <td>62.0</td>\n",
       "      <td>0</td>\n",
       "      <td>0</td>\n",
       "      <td>240276</td>\n",
       "      <td>9.6875</td>\n",
       "      <td>NaN</td>\n",
       "      <td>Q</td>\n",
       "    </tr>\n",
       "    <tr>\n",
       "      <th>3</th>\n",
       "      <td>895</td>\n",
       "      <td>0</td>\n",
       "      <td>3</td>\n",
       "      <td>Wirz, Mr. Albert</td>\n",
       "      <td>male</td>\n",
       "      <td>27.0</td>\n",
       "      <td>0</td>\n",
       "      <td>0</td>\n",
       "      <td>315154</td>\n",
       "      <td>8.6625</td>\n",
       "      <td>NaN</td>\n",
       "      <td>S</td>\n",
       "    </tr>\n",
       "    <tr>\n",
       "      <th>4</th>\n",
       "      <td>896</td>\n",
       "      <td>1</td>\n",
       "      <td>3</td>\n",
       "      <td>Hirvonen, Mrs. Alexander (Helga E Lindqvist)</td>\n",
       "      <td>female</td>\n",
       "      <td>22.0</td>\n",
       "      <td>1</td>\n",
       "      <td>1</td>\n",
       "      <td>3101298</td>\n",
       "      <td>12.2875</td>\n",
       "      <td>NaN</td>\n",
       "      <td>S</td>\n",
       "    </tr>\n",
       "    <tr>\n",
       "      <th>5</th>\n",
       "      <td>897</td>\n",
       "      <td>0</td>\n",
       "      <td>3</td>\n",
       "      <td>Svensson, Mr. Johan Cervin</td>\n",
       "      <td>male</td>\n",
       "      <td>14.0</td>\n",
       "      <td>0</td>\n",
       "      <td>0</td>\n",
       "      <td>7538</td>\n",
       "      <td>9.2250</td>\n",
       "      <td>NaN</td>\n",
       "      <td>S</td>\n",
       "    </tr>\n",
       "    <tr>\n",
       "      <th>6</th>\n",
       "      <td>898</td>\n",
       "      <td>1</td>\n",
       "      <td>3</td>\n",
       "      <td>Connolly, Miss. Kate</td>\n",
       "      <td>female</td>\n",
       "      <td>30.0</td>\n",
       "      <td>0</td>\n",
       "      <td>0</td>\n",
       "      <td>330972</td>\n",
       "      <td>7.6292</td>\n",
       "      <td>NaN</td>\n",
       "      <td>Q</td>\n",
       "    </tr>\n",
       "    <tr>\n",
       "      <th>7</th>\n",
       "      <td>899</td>\n",
       "      <td>0</td>\n",
       "      <td>2</td>\n",
       "      <td>Caldwell, Mr. Albert Francis</td>\n",
       "      <td>male</td>\n",
       "      <td>26.0</td>\n",
       "      <td>1</td>\n",
       "      <td>1</td>\n",
       "      <td>248738</td>\n",
       "      <td>29.0000</td>\n",
       "      <td>NaN</td>\n",
       "      <td>S</td>\n",
       "    </tr>\n",
       "    <tr>\n",
       "      <th>8</th>\n",
       "      <td>900</td>\n",
       "      <td>1</td>\n",
       "      <td>3</td>\n",
       "      <td>Abrahim, Mrs. Joseph (Sophie Halaut Easu)</td>\n",
       "      <td>female</td>\n",
       "      <td>18.0</td>\n",
       "      <td>0</td>\n",
       "      <td>0</td>\n",
       "      <td>2657</td>\n",
       "      <td>7.2292</td>\n",
       "      <td>NaN</td>\n",
       "      <td>C</td>\n",
       "    </tr>\n",
       "    <tr>\n",
       "      <th>9</th>\n",
       "      <td>901</td>\n",
       "      <td>0</td>\n",
       "      <td>3</td>\n",
       "      <td>Davies, Mr. John Samuel</td>\n",
       "      <td>male</td>\n",
       "      <td>21.0</td>\n",
       "      <td>2</td>\n",
       "      <td>0</td>\n",
       "      <td>A/4 48871</td>\n",
       "      <td>24.1500</td>\n",
       "      <td>NaN</td>\n",
       "      <td>S</td>\n",
       "    </tr>\n",
       "  </tbody>\n",
       "</table>\n",
       "</div>"
      ],
      "text/plain": [
       "   PassengerId  Survived  Pclass  \\\n",
       "0          892         0       3   \n",
       "1          893         1       3   \n",
       "2          894         0       2   \n",
       "3          895         0       3   \n",
       "4          896         1       3   \n",
       "5          897         0       3   \n",
       "6          898         1       3   \n",
       "7          899         0       2   \n",
       "8          900         1       3   \n",
       "9          901         0       3   \n",
       "\n",
       "                                           Name     Sex   Age  SibSp  Parch  \\\n",
       "0                              Kelly, Mr. James    male  34.5      0      0   \n",
       "1              Wilkes, Mrs. James (Ellen Needs)  female  47.0      1      0   \n",
       "2                     Myles, Mr. Thomas Francis    male  62.0      0      0   \n",
       "3                              Wirz, Mr. Albert    male  27.0      0      0   \n",
       "4  Hirvonen, Mrs. Alexander (Helga E Lindqvist)  female  22.0      1      1   \n",
       "5                    Svensson, Mr. Johan Cervin    male  14.0      0      0   \n",
       "6                          Connolly, Miss. Kate  female  30.0      0      0   \n",
       "7                  Caldwell, Mr. Albert Francis    male  26.0      1      1   \n",
       "8     Abrahim, Mrs. Joseph (Sophie Halaut Easu)  female  18.0      0      0   \n",
       "9                       Davies, Mr. John Samuel    male  21.0      2      0   \n",
       "\n",
       "      Ticket     Fare Cabin Embarked  \n",
       "0     330911   7.8292   NaN        Q  \n",
       "1     363272   7.0000   NaN        S  \n",
       "2     240276   9.6875   NaN        Q  \n",
       "3     315154   8.6625   NaN        S  \n",
       "4    3101298  12.2875   NaN        S  \n",
       "5       7538   9.2250   NaN        S  \n",
       "6     330972   7.6292   NaN        Q  \n",
       "7     248738  29.0000   NaN        S  \n",
       "8       2657   7.2292   NaN        C  \n",
       "9  A/4 48871  24.1500   NaN        S  "
      ]
     },
     "execution_count": 2,
     "metadata": {},
     "output_type": "execute_result"
    }
   ],
   "source": [
    "df.head(10)"
   ]
  },
  {
   "cell_type": "code",
   "execution_count": 3,
   "id": "f8b6244c",
   "metadata": {
    "execution": {
     "iopub.execute_input": "2024-08-27T12:42:41.950280Z",
     "iopub.status.busy": "2024-08-27T12:42:41.949868Z",
     "iopub.status.idle": "2024-08-27T12:42:41.960486Z",
     "shell.execute_reply": "2024-08-27T12:42:41.959406Z"
    },
    "papermill": {
     "duration": 0.019476,
     "end_time": "2024-08-27T12:42:41.962591",
     "exception": false,
     "start_time": "2024-08-27T12:42:41.943115",
     "status": "completed"
    },
    "tags": []
   },
   "outputs": [
    {
     "data": {
      "text/plain": [
       "PassengerId      0\n",
       "Survived         0\n",
       "Pclass           0\n",
       "Name             0\n",
       "Sex              0\n",
       "Age             86\n",
       "SibSp            0\n",
       "Parch            0\n",
       "Ticket           0\n",
       "Fare             1\n",
       "Cabin          327\n",
       "Embarked         0\n",
       "dtype: int64"
      ]
     },
     "execution_count": 3,
     "metadata": {},
     "output_type": "execute_result"
    }
   ],
   "source": [
    "df.isna().sum()"
   ]
  },
  {
   "cell_type": "code",
   "execution_count": 4,
   "id": "ec1dc4fe",
   "metadata": {
    "execution": {
     "iopub.execute_input": "2024-08-27T12:42:41.976144Z",
     "iopub.status.busy": "2024-08-27T12:42:41.975138Z",
     "iopub.status.idle": "2024-08-27T12:42:41.981507Z",
     "shell.execute_reply": "2024-08-27T12:42:41.980384Z"
    },
    "papermill": {
     "duration": 0.01554,
     "end_time": "2024-08-27T12:42:41.983763",
     "exception": false,
     "start_time": "2024-08-27T12:42:41.968223",
     "status": "completed"
    },
    "tags": []
   },
   "outputs": [],
   "source": [
    "# Calculate the average of non-null 'Age' values\n",
    "average_age = df['Age'].mean()\n",
    "\n",
    "# Replace null values with the rounded average\n",
    "df['Age'] = df['Age'].fillna(round(average_age))"
   ]
  },
  {
   "cell_type": "code",
   "execution_count": 5,
   "id": "955f0083",
   "metadata": {
    "execution": {
     "iopub.execute_input": "2024-08-27T12:42:41.996277Z",
     "iopub.status.busy": "2024-08-27T12:42:41.995877Z",
     "iopub.status.idle": "2024-08-27T12:42:42.001665Z",
     "shell.execute_reply": "2024-08-27T12:42:42.000614Z"
    },
    "papermill": {
     "duration": 0.01448,
     "end_time": "2024-08-27T12:42:42.003718",
     "exception": false,
     "start_time": "2024-08-27T12:42:41.989238",
     "status": "completed"
    },
    "tags": []
   },
   "outputs": [],
   "source": [
    "# Fill null values in the 'Cabin' column with \"unknown\"\n",
    "df['Cabin'] = df['Cabin'].fillna(\"unknown\")"
   ]
  },
  {
   "cell_type": "code",
   "execution_count": 6,
   "id": "1afc433c",
   "metadata": {
    "execution": {
     "iopub.execute_input": "2024-08-27T12:42:42.016281Z",
     "iopub.status.busy": "2024-08-27T12:42:42.015860Z",
     "iopub.status.idle": "2024-08-27T12:42:42.027899Z",
     "shell.execute_reply": "2024-08-27T12:42:42.026848Z"
    },
    "papermill": {
     "duration": 0.020906,
     "end_time": "2024-08-27T12:42:42.030206",
     "exception": false,
     "start_time": "2024-08-27T12:42:42.009300",
     "status": "completed"
    },
    "tags": []
   },
   "outputs": [],
   "source": [
    "df.dropna(inplace = True)"
   ]
  },
  {
   "cell_type": "code",
   "execution_count": 7,
   "id": "8b00affd",
   "metadata": {
    "execution": {
     "iopub.execute_input": "2024-08-27T12:42:42.043654Z",
     "iopub.status.busy": "2024-08-27T12:42:42.042768Z",
     "iopub.status.idle": "2024-08-27T12:42:42.051684Z",
     "shell.execute_reply": "2024-08-27T12:42:42.050618Z"
    },
    "papermill": {
     "duration": 0.018297,
     "end_time": "2024-08-27T12:42:42.054043",
     "exception": false,
     "start_time": "2024-08-27T12:42:42.035746",
     "status": "completed"
    },
    "tags": []
   },
   "outputs": [
    {
     "data": {
      "text/plain": [
       "PassengerId    0\n",
       "Survived       0\n",
       "Pclass         0\n",
       "Name           0\n",
       "Sex            0\n",
       "Age            0\n",
       "SibSp          0\n",
       "Parch          0\n",
       "Ticket         0\n",
       "Fare           0\n",
       "Cabin          0\n",
       "Embarked       0\n",
       "dtype: int64"
      ]
     },
     "execution_count": 7,
     "metadata": {},
     "output_type": "execute_result"
    }
   ],
   "source": [
    "df.isna().sum()"
   ]
  },
  {
   "cell_type": "code",
   "execution_count": 8,
   "id": "7a4b5d17",
   "metadata": {
    "execution": {
     "iopub.execute_input": "2024-08-27T12:42:42.067128Z",
     "iopub.status.busy": "2024-08-27T12:42:42.066704Z",
     "iopub.status.idle": "2024-08-27T12:42:42.082048Z",
     "shell.execute_reply": "2024-08-27T12:42:42.080951Z"
    },
    "papermill": {
     "duration": 0.024618,
     "end_time": "2024-08-27T12:42:42.084312",
     "exception": false,
     "start_time": "2024-08-27T12:42:42.059694",
     "status": "completed"
    },
    "tags": []
   },
   "outputs": [
    {
     "data": {
      "text/plain": [
       "0"
      ]
     },
     "execution_count": 8,
     "metadata": {},
     "output_type": "execute_result"
    }
   ],
   "source": [
    "df.duplicated().sum()"
   ]
  },
  {
   "cell_type": "code",
   "execution_count": 9,
   "id": "055eb0f4",
   "metadata": {
    "execution": {
     "iopub.execute_input": "2024-08-27T12:42:42.097782Z",
     "iopub.status.busy": "2024-08-27T12:42:42.097283Z",
     "iopub.status.idle": "2024-08-27T12:42:42.129817Z",
     "shell.execute_reply": "2024-08-27T12:42:42.128708Z"
    },
    "papermill": {
     "duration": 0.041856,
     "end_time": "2024-08-27T12:42:42.132148",
     "exception": false,
     "start_time": "2024-08-27T12:42:42.090292",
     "status": "completed"
    },
    "tags": []
   },
   "outputs": [
    {
     "data": {
      "text/html": [
       "<div>\n",
       "<style scoped>\n",
       "    .dataframe tbody tr th:only-of-type {\n",
       "        vertical-align: middle;\n",
       "    }\n",
       "\n",
       "    .dataframe tbody tr th {\n",
       "        vertical-align: top;\n",
       "    }\n",
       "\n",
       "    .dataframe thead th {\n",
       "        text-align: right;\n",
       "    }\n",
       "</style>\n",
       "<table border=\"1\" class=\"dataframe\">\n",
       "  <thead>\n",
       "    <tr style=\"text-align: right;\">\n",
       "      <th></th>\n",
       "      <th>count</th>\n",
       "      <th>mean</th>\n",
       "      <th>std</th>\n",
       "      <th>min</th>\n",
       "      <th>25%</th>\n",
       "      <th>50%</th>\n",
       "      <th>75%</th>\n",
       "      <th>max</th>\n",
       "    </tr>\n",
       "  </thead>\n",
       "  <tbody>\n",
       "    <tr>\n",
       "      <th>PassengerId</th>\n",
       "      <td>417.0</td>\n",
       "      <td>1100.635492</td>\n",
       "      <td>120.923774</td>\n",
       "      <td>892.00</td>\n",
       "      <td>996.0000</td>\n",
       "      <td>1101.0000</td>\n",
       "      <td>1205.0</td>\n",
       "      <td>1309.0000</td>\n",
       "    </tr>\n",
       "    <tr>\n",
       "      <th>Survived</th>\n",
       "      <td>417.0</td>\n",
       "      <td>0.364508</td>\n",
       "      <td>0.481870</td>\n",
       "      <td>0.00</td>\n",
       "      <td>0.0000</td>\n",
       "      <td>0.0000</td>\n",
       "      <td>1.0</td>\n",
       "      <td>1.0000</td>\n",
       "    </tr>\n",
       "    <tr>\n",
       "      <th>Pclass</th>\n",
       "      <td>417.0</td>\n",
       "      <td>2.263789</td>\n",
       "      <td>0.842077</td>\n",
       "      <td>1.00</td>\n",
       "      <td>1.0000</td>\n",
       "      <td>3.0000</td>\n",
       "      <td>3.0</td>\n",
       "      <td>3.0000</td>\n",
       "    </tr>\n",
       "    <tr>\n",
       "      <th>Age</th>\n",
       "      <td>417.0</td>\n",
       "      <td>30.143885</td>\n",
       "      <td>12.562546</td>\n",
       "      <td>0.17</td>\n",
       "      <td>23.0000</td>\n",
       "      <td>30.0000</td>\n",
       "      <td>35.0</td>\n",
       "      <td>76.0000</td>\n",
       "    </tr>\n",
       "    <tr>\n",
       "      <th>SibSp</th>\n",
       "      <td>417.0</td>\n",
       "      <td>0.448441</td>\n",
       "      <td>0.897568</td>\n",
       "      <td>0.00</td>\n",
       "      <td>0.0000</td>\n",
       "      <td>0.0000</td>\n",
       "      <td>1.0</td>\n",
       "      <td>8.0000</td>\n",
       "    </tr>\n",
       "    <tr>\n",
       "      <th>Parch</th>\n",
       "      <td>417.0</td>\n",
       "      <td>0.393285</td>\n",
       "      <td>0.982419</td>\n",
       "      <td>0.00</td>\n",
       "      <td>0.0000</td>\n",
       "      <td>0.0000</td>\n",
       "      <td>0.0</td>\n",
       "      <td>9.0000</td>\n",
       "    </tr>\n",
       "    <tr>\n",
       "      <th>Fare</th>\n",
       "      <td>417.0</td>\n",
       "      <td>35.627188</td>\n",
       "      <td>55.907576</td>\n",
       "      <td>0.00</td>\n",
       "      <td>7.8958</td>\n",
       "      <td>14.4542</td>\n",
       "      <td>31.5</td>\n",
       "      <td>512.3292</td>\n",
       "    </tr>\n",
       "  </tbody>\n",
       "</table>\n",
       "</div>"
      ],
      "text/plain": [
       "             count         mean         std     min       25%        50%  \\\n",
       "PassengerId  417.0  1100.635492  120.923774  892.00  996.0000  1101.0000   \n",
       "Survived     417.0     0.364508    0.481870    0.00    0.0000     0.0000   \n",
       "Pclass       417.0     2.263789    0.842077    1.00    1.0000     3.0000   \n",
       "Age          417.0    30.143885   12.562546    0.17   23.0000    30.0000   \n",
       "SibSp        417.0     0.448441    0.897568    0.00    0.0000     0.0000   \n",
       "Parch        417.0     0.393285    0.982419    0.00    0.0000     0.0000   \n",
       "Fare         417.0    35.627188   55.907576    0.00    7.8958    14.4542   \n",
       "\n",
       "                75%        max  \n",
       "PassengerId  1205.0  1309.0000  \n",
       "Survived        1.0     1.0000  \n",
       "Pclass          3.0     3.0000  \n",
       "Age            35.0    76.0000  \n",
       "SibSp           1.0     8.0000  \n",
       "Parch           0.0     9.0000  \n",
       "Fare           31.5   512.3292  "
      ]
     },
     "execution_count": 9,
     "metadata": {},
     "output_type": "execute_result"
    }
   ],
   "source": [
    "df.describe().T"
   ]
  },
  {
   "cell_type": "code",
   "execution_count": 10,
   "id": "853640e0",
   "metadata": {
    "execution": {
     "iopub.execute_input": "2024-08-27T12:42:42.146225Z",
     "iopub.status.busy": "2024-08-27T12:42:42.145766Z",
     "iopub.status.idle": "2024-08-27T12:42:42.151827Z",
     "shell.execute_reply": "2024-08-27T12:42:42.150682Z"
    },
    "papermill": {
     "duration": 0.0156,
     "end_time": "2024-08-27T12:42:42.153815",
     "exception": false,
     "start_time": "2024-08-27T12:42:42.138215",
     "status": "completed"
    },
    "tags": []
   },
   "outputs": [],
   "source": [
    "# Drop rows with zero values in the 'Fare' column\n",
    "df = df[df['Fare'] != 0]"
   ]
  },
  {
   "cell_type": "code",
   "execution_count": 11,
   "id": "68c1a478",
   "metadata": {
    "execution": {
     "iopub.execute_input": "2024-08-27T12:42:42.167674Z",
     "iopub.status.busy": "2024-08-27T12:42:42.167284Z",
     "iopub.status.idle": "2024-08-27T12:42:42.195697Z",
     "shell.execute_reply": "2024-08-27T12:42:42.194664Z"
    },
    "papermill": {
     "duration": 0.038124,
     "end_time": "2024-08-27T12:42:42.198034",
     "exception": false,
     "start_time": "2024-08-27T12:42:42.159910",
     "status": "completed"
    },
    "tags": []
   },
   "outputs": [
    {
     "data": {
      "text/html": [
       "<div>\n",
       "<style scoped>\n",
       "    .dataframe tbody tr th:only-of-type {\n",
       "        vertical-align: middle;\n",
       "    }\n",
       "\n",
       "    .dataframe tbody tr th {\n",
       "        vertical-align: top;\n",
       "    }\n",
       "\n",
       "    .dataframe thead th {\n",
       "        text-align: right;\n",
       "    }\n",
       "</style>\n",
       "<table border=\"1\" class=\"dataframe\">\n",
       "  <thead>\n",
       "    <tr style=\"text-align: right;\">\n",
       "      <th></th>\n",
       "      <th>count</th>\n",
       "      <th>mean</th>\n",
       "      <th>std</th>\n",
       "      <th>min</th>\n",
       "      <th>25%</th>\n",
       "      <th>50%</th>\n",
       "      <th>75%</th>\n",
       "      <th>max</th>\n",
       "    </tr>\n",
       "  </thead>\n",
       "  <tbody>\n",
       "    <tr>\n",
       "      <th>PassengerId</th>\n",
       "      <td>415.0</td>\n",
       "      <td>1100.103614</td>\n",
       "      <td>120.915275</td>\n",
       "      <td>892.0000</td>\n",
       "      <td>995.5000</td>\n",
       "      <td>1100.0000</td>\n",
       "      <td>1204.5</td>\n",
       "      <td>1309.0000</td>\n",
       "    </tr>\n",
       "    <tr>\n",
       "      <th>Survived</th>\n",
       "      <td>415.0</td>\n",
       "      <td>0.366265</td>\n",
       "      <td>0.482365</td>\n",
       "      <td>0.0000</td>\n",
       "      <td>0.0000</td>\n",
       "      <td>0.0000</td>\n",
       "      <td>1.0</td>\n",
       "      <td>1.0000</td>\n",
       "    </tr>\n",
       "    <tr>\n",
       "      <th>Pclass</th>\n",
       "      <td>415.0</td>\n",
       "      <td>2.269880</td>\n",
       "      <td>0.839504</td>\n",
       "      <td>1.0000</td>\n",
       "      <td>1.0000</td>\n",
       "      <td>3.0000</td>\n",
       "      <td>3.0</td>\n",
       "      <td>3.0000</td>\n",
       "    </tr>\n",
       "    <tr>\n",
       "      <th>Age</th>\n",
       "      <td>415.0</td>\n",
       "      <td>30.098795</td>\n",
       "      <td>12.558624</td>\n",
       "      <td>0.1700</td>\n",
       "      <td>23.0000</td>\n",
       "      <td>30.0000</td>\n",
       "      <td>35.0</td>\n",
       "      <td>76.0000</td>\n",
       "    </tr>\n",
       "    <tr>\n",
       "      <th>SibSp</th>\n",
       "      <td>415.0</td>\n",
       "      <td>0.450602</td>\n",
       "      <td>0.899191</td>\n",
       "      <td>0.0000</td>\n",
       "      <td>0.0000</td>\n",
       "      <td>0.0000</td>\n",
       "      <td>1.0</td>\n",
       "      <td>8.0000</td>\n",
       "    </tr>\n",
       "    <tr>\n",
       "      <th>Parch</th>\n",
       "      <td>415.0</td>\n",
       "      <td>0.395181</td>\n",
       "      <td>0.984408</td>\n",
       "      <td>0.0000</td>\n",
       "      <td>0.0000</td>\n",
       "      <td>0.0000</td>\n",
       "      <td>0.0</td>\n",
       "      <td>9.0000</td>\n",
       "    </tr>\n",
       "    <tr>\n",
       "      <th>Fare</th>\n",
       "      <td>415.0</td>\n",
       "      <td>35.798886</td>\n",
       "      <td>55.987458</td>\n",
       "      <td>3.1708</td>\n",
       "      <td>7.8958</td>\n",
       "      <td>14.4542</td>\n",
       "      <td>31.5</td>\n",
       "      <td>512.3292</td>\n",
       "    </tr>\n",
       "  </tbody>\n",
       "</table>\n",
       "</div>"
      ],
      "text/plain": [
       "             count         mean         std       min       25%        50%  \\\n",
       "PassengerId  415.0  1100.103614  120.915275  892.0000  995.5000  1100.0000   \n",
       "Survived     415.0     0.366265    0.482365    0.0000    0.0000     0.0000   \n",
       "Pclass       415.0     2.269880    0.839504    1.0000    1.0000     3.0000   \n",
       "Age          415.0    30.098795   12.558624    0.1700   23.0000    30.0000   \n",
       "SibSp        415.0     0.450602    0.899191    0.0000    0.0000     0.0000   \n",
       "Parch        415.0     0.395181    0.984408    0.0000    0.0000     0.0000   \n",
       "Fare         415.0    35.798886   55.987458    3.1708    7.8958    14.4542   \n",
       "\n",
       "                75%        max  \n",
       "PassengerId  1204.5  1309.0000  \n",
       "Survived        1.0     1.0000  \n",
       "Pclass          3.0     3.0000  \n",
       "Age            35.0    76.0000  \n",
       "SibSp           1.0     8.0000  \n",
       "Parch           0.0     9.0000  \n",
       "Fare           31.5   512.3292  "
      ]
     },
     "execution_count": 11,
     "metadata": {},
     "output_type": "execute_result"
    }
   ],
   "source": [
    "df.describe().T"
   ]
  },
  {
   "cell_type": "markdown",
   "id": "a6886db7",
   "metadata": {
    "papermill": {
     "duration": 0.007696,
     "end_time": "2024-08-27T12:42:42.212231",
     "exception": false,
     "start_time": "2024-08-27T12:42:42.204535",
     "status": "completed"
    },
    "tags": []
   },
   "source": [
    "----------\n",
    "## Data Cleaning Done!\n",
    "- Changed every Null value in the \"Age\" column with the Average age\n",
    "- Changed every Null value in the \"Cabin\" column with \"unkown\" cause a 327 rows had null values\n",
    "- Droped 1 Null value in the \"Fare\" column\n",
    "- Droped any 0 value in the \"Fare\" column cause no one can enter the ship without a Ticket\n",
    "- No Duplicates\n",
    "- No Outliers\n",
    "---------"
   ]
  },
  {
   "cell_type": "markdown",
   "id": "d4c7d95b",
   "metadata": {
    "papermill": {
     "duration": 0.005968,
     "end_time": "2024-08-27T12:42:42.224513",
     "exception": false,
     "start_time": "2024-08-27T12:42:42.218545",
     "status": "completed"
    },
    "tags": []
   },
   "source": [
    "------------------\n",
    "# Average of Fare by Class and Gender"
   ]
  },
  {
   "cell_type": "code",
   "execution_count": 12,
   "id": "ee7e7309",
   "metadata": {
    "execution": {
     "iopub.execute_input": "2024-08-27T12:42:42.238620Z",
     "iopub.status.busy": "2024-08-27T12:42:42.238207Z",
     "iopub.status.idle": "2024-08-27T12:42:42.666459Z",
     "shell.execute_reply": "2024-08-27T12:42:42.665383Z"
    },
    "papermill": {
     "duration": 0.438019,
     "end_time": "2024-08-27T12:42:42.668744",
     "exception": false,
     "start_time": "2024-08-27T12:42:42.230725",
     "status": "completed"
    },
    "tags": []
   },
   "outputs": [
    {
     "data": {
      "image/png": "[encoded data removed]",
      "text/plain": [
       "<Figure size 640x480 with 1 Axes>"
      ]
     },
     "metadata": {},
     "output_type": "display_data"
    }
   ],
   "source": [
    "sns.barplot(x='Pclass', y='Fare', hue='Sex', data=df)\n",
    "plt.title('Average Fare by Class and Gender')\n",
    "plt.xlabel('Passenger Class')\n",
    "plt.ylabel('Average Fare')\n",
    "plt.legend(title='Gender')\n",
    "plt.show()"
   ]
  },
  {
   "cell_type": "markdown",
   "id": "1eedd79f",
   "metadata": {
    "papermill": {
     "duration": 0.006447,
     "end_time": "2024-08-27T12:42:42.682133",
     "exception": false,
     "start_time": "2024-08-27T12:42:42.675686",
     "status": "completed"
    },
    "tags": []
   },
   "source": [
    "- 1 stands for \"First Class\"\n",
    "- 2 stands for \"Second Class\"\n",
    "- 3 stands for \"Third Class\""
   ]
  },
  {
   "cell_type": "markdown",
   "id": "d5452e6c",
   "metadata": {
    "papermill": {
     "duration": 0.00681,
     "end_time": "2024-08-27T12:42:42.695635",
     "exception": false,
     "start_time": "2024-08-27T12:42:42.688825",
     "status": "completed"
    },
    "tags": []
   },
   "source": [
    "-----------------\n",
    "# Survivors and Not Survived by Location Embarked"
   ]
  },
  {
   "cell_type": "code",
   "execution_count": 13,
   "id": "d3fe5ebe",
   "metadata": {
    "execution": {
     "iopub.execute_input": "2024-08-27T12:42:42.711413Z",
     "iopub.status.busy": "2024-08-27T12:42:42.710503Z",
     "iopub.status.idle": "2024-08-27T12:42:42.975544Z",
     "shell.execute_reply": "2024-08-27T12:42:42.974428Z"
    },
    "papermill": {
     "duration": 0.275593,
     "end_time": "2024-08-27T12:42:42.977985",
     "exception": false,
     "start_time": "2024-08-27T12:42:42.702392",
     "status": "completed"
    },
    "tags": []
   },
   "outputs": [
    {
     "data": {
      "image/png": "[encoded data removed]",
      "text/plain": [
       "<Figure size 640x480 with 1 Axes>"
      ]
     },
     "metadata": {},
     "output_type": "display_data"
    }
   ],
   "source": [
    "sns.countplot(x='Embarked', hue='Survived', data=df)\n",
    "plt.title('Survivors and Not Survived by Location Embarked')\n",
    "plt.xlabel('Embarked Location')\n",
    "plt.ylabel('Count')\n",
    "plt.legend(title='Survived')\n",
    "plt.show()"
   ]
  },
  {
   "cell_type": "markdown",
   "id": "23910bec",
   "metadata": {
    "papermill": {
     "duration": 0.006941,
     "end_time": "2024-08-27T12:42:42.992336",
     "exception": false,
     "start_time": "2024-08-27T12:42:42.985395",
     "status": "completed"
    },
    "tags": []
   },
   "source": [
    "- 0 in \"Survived\" Stands for \"Dead\"\n",
    "- 1 in \"Survived\" Stands for \"Alive\"\n",
    "- Q in \"Embarked Location\" Stands for \"Queenstown\"\n",
    "- C in \"Embarked Location\" Stands for \"Cherbourg\"\n",
    "- S in \"Embarked Location\" Stands for \"Southampton\""
   ]
  },
  {
   "cell_type": "markdown",
   "id": "45d2da9d",
   "metadata": {
    "papermill": {
     "duration": 0.006875,
     "end_time": "2024-08-27T12:42:43.006517",
     "exception": false,
     "start_time": "2024-08-27T12:42:42.999642",
     "status": "completed"
    },
    "tags": []
   },
   "source": [
    "---------------\n",
    "# Total Survivors by Gender and Class"
   ]
  },
  {
   "cell_type": "code",
   "execution_count": 14,
   "id": "d6d18285",
   "metadata": {
    "execution": {
     "iopub.execute_input": "2024-08-27T12:42:43.022910Z",
     "iopub.status.busy": "2024-08-27T12:42:43.022496Z",
     "iopub.status.idle": "2024-08-27T12:42:43.258297Z",
     "shell.execute_reply": "2024-08-27T12:42:43.257126Z"
    },
    "papermill": {
     "duration": 0.247407,
     "end_time": "2024-08-27T12:42:43.261367",
     "exception": false,
     "start_time": "2024-08-27T12:42:43.013960",
     "status": "completed"
    },
    "tags": []
   },
   "outputs": [
    {
     "data": {
      "image/png": "[encoded data removed]",
      "text/plain": [
       "<Figure size 800x800 with 1 Axes>"
      ]
     },
     "metadata": {},
     "output_type": "display_data"
    }
   ],
   "source": [
    "# Filter the DataFrame for survivors only\n",
    "survivors = df[df['Survived'] == 1 & (df['Sex'] == 'female')]\n",
    "\n",
    "# Group by gender and class, count the survivors\n",
    "survivor_counts = survivors.groupby(['Sex', 'Pclass']).size().reset_index(name='Count')\n",
    "\n",
    "# Create a pie chart\n",
    "plt.figure(figsize=(8, 8))\n",
    "plt.pie(survivor_counts['Count'], labels=survivor_counts.apply(lambda x: f\"{x['Sex']} - Class {x['Pclass']} ({x['Count']})\", axis=1), autopct='%1.1f%%', startangle=140)\n",
    "plt.title('Total Survivors by Gender and Class')\n",
    "plt.show()"
   ]
  },
  {
   "cell_type": "markdown",
   "id": "33e818c2",
   "metadata": {
    "papermill": {
     "duration": 0.007688,
     "end_time": "2024-08-27T12:42:43.277213",
     "exception": false,
     "start_time": "2024-08-27T12:42:43.269525",
     "status": "completed"
    },
    "tags": []
   },
   "source": [
    "-------------\n",
    "# Distribution of Passenger Ages\n"
   ]
  },
  {
   "cell_type": "code",
   "execution_count": 15,
   "id": "9a07f256",
   "metadata": {
    "execution": {
     "iopub.execute_input": "2024-08-27T12:42:43.296016Z",
     "iopub.status.busy": "2024-08-27T12:42:43.295606Z",
     "iopub.status.idle": "2024-08-27T12:42:43.612196Z",
     "shell.execute_reply": "2024-08-27T12:42:43.611046Z"
    },
    "papermill": {
     "duration": 0.328915,
     "end_time": "2024-08-27T12:42:43.614627",
     "exception": false,
     "start_time": "2024-08-27T12:42:43.285712",
     "status": "completed"
    },
    "tags": []
   },
   "outputs": [
    {
     "name": "stderr",
     "output_type": "stream",
     "text": [
      "/opt/conda/lib/python3.10/site-packages/seaborn/_oldcore.py:1119: FutureWarning: use_inf_as_na option is deprecated and will be removed in a future version. Convert inf values to NaN before operating instead.\n",
      "  with pd.option_context('mode.use_inf_as_na', True):\n"
     ]
    },
    {
     "data": {
      "image/png": "[encoded data removed]",
      "text/plain": [
       "<Figure size 640x480 with 1 Axes>"
      ]
     },
     "metadata": {},
     "output_type": "display_data"
    }
   ],
   "source": [
    "sns.histplot(df['Age'])\n",
    "plt.title('Distribution of Passenger Ages')\n",
    "plt.xlabel('Age')\n",
    "plt.ylabel('Count')\n",
    "plt.show()"
   ]
  }
 ],
 "metadata": {
  "kaggle": {
   "accelerator": "none",
   "dataSources": [
    {
     "datasetId": 826163,
     "sourceId": 2879186,
     "sourceType": "datasetVersion"
    }
   ],
   "dockerImageVersionId": 30761,
   "isGpuEnabled": false,
   "isInternetEnabled": true,
   "language": "python",
   "sourceType": "notebook"
  },
  "kernelspec": {
   "display_name": "Python 3",
   "language": "python",
   "name": "python3"
  },
  "language_info": {
   "codemirror_mode": {
    "name": "ipython",
    "version": 3
   },
   "file_extension": ".py",
   "mimetype": "text/x-python",
   "name": "python",
   "nbconvert_exporter": "python",
   "pygments_lexer": "ipython3",
   "version": "3.10.14"
  },
  "papermill": {
   "default_parameters": {},
   "duration": 7.017376,
   "end_time": "2024-08-27T12:42:44.244691",
   "environment_variables": {},
   "exception": null,
   "input_path": "__notebook__.ipynb",
   "output_path": "__notebook__.ipynb",
   "parameters": {},
   "start_time": "2024-08-27T12:42:37.227315",
   "version": "2.6.0"
  }
 },
 "nbformat": 4,
 "nbformat_minor": 5
}
